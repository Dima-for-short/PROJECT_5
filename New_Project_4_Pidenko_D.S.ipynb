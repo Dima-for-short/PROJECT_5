{
 "cells": [
  {
   "cell_type": "markdown",
   "metadata": {
    "id": "Qitz_k4-PmR2"
   },
   "source": [
    "## **PROJECT-4.  Решение комплексной бизнес-задачи**\n",
    "<font size=\"5\" color=\"red\"><b>DAPR-1016</b> Pidenko Dmitry</font>"
   ]
  },
  {
   "cell_type": "markdown",
   "metadata": {
    "id": "_c26DO3oPmR8"
   },
   "source": [
    "**<font size=\"5\" color=\"green\"><b>ЛЕГЕНДА</b></font>**\n",
    "\n",
    "     Итак, я работаю аналитиком в онлайн-школе MasterMind.\n",
    "\n",
    "Уже в конце рабочего дня мне пишет расстроенный продакт-менеджер. Несчастный Григорий крайне устал от того, что новые курсы, созданные с той же любовью, что и прежние, не пользуются особой популярностью среди пользователей — несмотря на все усилия отдела маркетинга.\n",
    "\n",
    "\n",
    "**<font size=\"5\" color=\"green\"><b>ЦЕЛЬ</b></font>**\n",
    "\n",
    "Подготовить основу рекомендательной системы.\n",
    "\n",
    "**<font size=\"5\" color=\"green\"><b>ЗАДАЧИ</b></font>**\n",
    "\n",
    "Итак, продакт ожидает получить от меня рекомендательную систему, благодаря которой можно будет предлагать клиентам интересные им курсы и тем самым повышать средний чек.\n",
    "\n",
    "Я решаю, что изначальным воплощением этой системы может стать таблица, в которой курсам будет соответствовать по две рекомендации.\n",
    "\n",
    "Кроме того, я планирую вместе с отчётом (таблицей рекомендаций) скинуть продакту ещё и все написанные в процессе скрипты, чтобы было меньше вопросов по решению :)\n",
    "\n",
    "Также я понимаю, что перед внедрением фичи коллеги решат провести A/B-тест и вас скорее всего привлекут к анализу результатов.\n",
    "\n",
    "Перспективы ясны, можно переходить к формализации задач.\n",
    "\n",
    "\n",
    "\n",
    "**<font size=\"5\" color=\"green\"><b>КОНКРЕТНЫЕ ШАГИ (ФОРМАЛИЗОВАННЫЕ ЗАДАЧИ)</b></font>**\n",
    "\n",
    "Обдумав план предстоящей работы, вы понимаете, что действовать нужно по привычной схеме:\n",
    "\n",
    "1. Познакомиться с датасетом, подготовить и проанализировать данные с помощью SQL.\n",
    "\n",
    "2. Обработать данные средствами Python.\n",
    "\n",
    "3. Составить итоговую таблицу с рекомендациями, снабдив её необходимыми комментариями, и представить отчёт продакт-менеджеру.\n",
    "\n",
    "4. Проанализировать результаты A/B-теста, проведённого после внедрения фичи, и сделать вывод."
   ]
  },
  {
   "cell_type": "markdown",
   "metadata": {
    "id": "K2AmUuYzPmR9"
   },
   "source": [
    "## **1.1.Изучаем данные**"
   ]
  },
  {
   "cell_type": "markdown",
   "metadata": {
    "id": "rz1QTIYsPmR9"
   },
   "source": [
    "У нас в распоряжении две таблицы:\n",
    "\n",
    "<font size=\"5\" color=\"green\"><b>carts</b></font> с данными о пользовательских корзинах (дате создания, статусе, id пользователя-владельца и т. д.);\n",
    "\n",
    "<font size=\"5\" color=\"green\"><b>cart items</b></font> с данными о курсах, которые пользователи добавили в корзину.\n",
    "\n",
    "Необходимые таблицы находятся в схеме final"
   ]
  },
  {
   "cell_type": "markdown",
   "metadata": {
    "id": "h2syj0ZCPmR-"
   },
   "source": [
    "Располагаем данными о продажах за период от <font size=\"5\" color=\"green\"><b>2017</b></font> по <font size=\"5\" color=\"green\"><b>2018</b></font> год.\n",
    "\n",
    "Общее количество уникальных пользователей которые произвели покупку курсов, составляет: <font size=\"5\" color=\"green\"><b>49006</b></font> человек\n",
    "\n",
    "Общее количество уникальных курсов: <font size=\"5\" color=\"green\"><b>127</b></font>  штук\n",
    "\n",
    "Среднее число купленных курсов на одного клиента составляет: <font size=\"5\" color=\"green\"><b>1.44</b></font> штук\n",
    "\n",
    "Уникальное количество клиентов которые купили более одного курса: <font size=\"5\" color=\"green\"><b>12656</b></font> человек\n",
    "\n"
   ]
  },
  {
   "cell_type": "markdown",
   "metadata": {
    "id": "pTZm33LlPmR-"
   },
   "source": [
    "## **1.2.Готовим данные для анализа в Metabase**"
   ]
  },
  {
   "cell_type": "markdown",
   "metadata": {
    "id": "VtaJYTzkPmR_"
   },
   "source": [
    "Сформируем  SQL-запрос с данными по продажам курсов в разрезе пользователей (купивших более одного курса) с помощью инструмента Metabase\n",
    "\n",
    "<font size=\"1\" color=\"green\"><b>\n",
    "WITH CTN_clients_1 AS\n",
    "\n",
    "(\n",
    "\n",
    "SELECT\n",
    "\n",
    "DISTINCT c.user_id,\n",
    "\n",
    "COUNT(DISTINCT s.resource_id)\n",
    "\n",
    "FROM final.carts c\n",
    "\n",
    "JOIN final.cart_items s ON c.id = s.cart_id\n",
    "\n",
    "WHERE s.resource_type = 'Course' AND c.state = 'successful'\n",
    "\n",
    "GROUP BY 1\n",
    "\n",
    "HAVING COUNT(DISTINCT s.resource_id) > 1),\n",
    "\n",
    "CTN_clients_2 AS\n",
    "\n",
    "(\n",
    "\n",
    "SELECT\n",
    "\n",
    "*\n",
    "\n",
    "FROM final.carts c\n",
    "\n",
    "JOIN final.cart_items s ON c.id = s.cart_id\n",
    "\n",
    "WHERE s.resource_type = 'Course' AND c.state = 'successful')\n",
    "\n",
    "SELECT\n",
    "\n",
    "DISTINCT i.user_id,\n",
    "\n",
    "j.resource_id\n",
    "\n",
    "FROM CTN_clients_1 i\n",
    "\n",
    "JOIN CTN_clients_2 j ON i.user_id = j.user_id</b></font>"
   ]
  },
  {
   "cell_type": "markdown",
   "metadata": {
    "id": "i3jgU9s3PmR_"
   },
   "source": [
    "## **1.3.Произведем выгрузку необходимых библиотек**"
   ]
  },
  {
   "cell_type": "code",
   "execution_count": 2,
   "metadata": {
    "id": "xLg6h0YTPmSA"
   },
   "outputs": [],
   "source": [
    "import pandas as pd\n",
    "import psycopg2\n",
    "import psycopg2.extras\n",
    "import numpy as np\n",
    "import itertools\n",
    "from itertools import combinations\n",
    "from collections import Counter"
   ]
  },
  {
   "cell_type": "markdown",
   "metadata": {
    "id": "6PrnoZLLPmSB"
   },
   "source": [
    "## **1.4.Перейдём к анализу полученного списка с помощью Python**"
   ]
  },
  {
   "cell_type": "markdown",
   "metadata": {
    "id": "A8BcMHEQPmSB"
   },
   "source": [
    "Для того чтобы отразить таблицу в Jupyter Notebook, сформированную в Metabase ранее при помощи SQL- запроса. Необходимо воспользоваться следующей функцией, которая представлена ниже. Далее преобразуем данные в таблицу"
   ]
  },
  {
   "cell_type": "code",
   "execution_count": 3,
   "metadata": {
    "id": "Z_gfDlPfPmSC"
   },
   "outputs": [],
   "source": [
    "query = '''\n",
    "   WITH CTN_clients_1 AS\n",
    "(\n",
    "SELECT\n",
    "      DISTINCT c.user_id,\n",
    "      COUNT(DISTINCT s.resource_id)\n",
    "FROM final.carts c\n",
    "JOIN final.cart_items s ON c.id = s.cart_id\n",
    "WHERE s.resource_type = 'Course' AND c.state = 'successful'\n",
    "GROUP BY 1\n",
    "HAVING COUNT(DISTINCT s.resource_id) > 1),\n",
    "CTN_clients_2 AS\n",
    "(\n",
    "SELECT*\n",
    "FROM final.carts c\n",
    "JOIN final.cart_items s ON c.id = s.cart_id\n",
    "WHERE s.resource_type = 'Course' AND c.state = 'successful')\n",
    "\n",
    "SELECT\n",
    "      DISTINCT i.user_id,\n",
    "      j.resource_id\n",
    "FROM CTN_clients_1 i\n",
    "JOIN CTN_clients_2 j ON i.user_id = j.user_id\n",
    "    '''.format()\n",
    "\n",
    "\n",
    "def get_data():\n",
    "    query\n",
    "    conn = psycopg2.connect(\"dbname='skillfactory' user='skillfactory' host='84.201.134.129' password='cCkxxLVrDE8EbvjueeMedPKt' port=5432\")\n",
    "    dict_cur = conn.cursor(cursor_factory=psycopg2.extras.DictCursor)\n",
    "    dict_cur.execute(query)\n",
    "    rows = dict_cur.fetchall()\n",
    "    data = []\n",
    "    for row in rows:\n",
    "        data.append(dict(row))\n",
    "    return data\n",
    "\n",
    "\n",
    "df = pd.DataFrame(get_data()) #преобразование полученных данных в таблицу\n"
   ]
  },
  {
   "cell_type": "code",
   "execution_count": 4,
   "metadata": {
    "id": "n3Dz6WvyPmSC",
    "outputId": "4b6d32de-02bb-465b-8a6d-fb221bcade1e"
   },
   "outputs": [
    {
     "data": {
      "text/html": [
       "<div>\n",
       "<style scoped>\n",
       "    .dataframe tbody tr th:only-of-type {\n",
       "        vertical-align: middle;\n",
       "    }\n",
       "\n",
       "    .dataframe tbody tr th {\n",
       "        vertical-align: top;\n",
       "    }\n",
       "\n",
       "    .dataframe thead th {\n",
       "        text-align: right;\n",
       "    }\n",
       "</style>\n",
       "<table border=\"1\" class=\"dataframe\">\n",
       "  <thead>\n",
       "    <tr style=\"text-align: right;\">\n",
       "      <th></th>\n",
       "      <th>user_id</th>\n",
       "      <th>resource_id</th>\n",
       "    </tr>\n",
       "  </thead>\n",
       "  <tbody>\n",
       "    <tr>\n",
       "      <th>0</th>\n",
       "      <td>909757</td>\n",
       "      <td>356</td>\n",
       "    </tr>\n",
       "    <tr>\n",
       "      <th>1</th>\n",
       "      <td>583850</td>\n",
       "      <td>515</td>\n",
       "    </tr>\n",
       "    <tr>\n",
       "      <th>2</th>\n",
       "      <td>1559882</td>\n",
       "      <td>566</td>\n",
       "    </tr>\n",
       "    <tr>\n",
       "      <th>3</th>\n",
       "      <td>970967</td>\n",
       "      <td>679</td>\n",
       "    </tr>\n",
       "    <tr>\n",
       "      <th>4</th>\n",
       "      <td>1640443</td>\n",
       "      <td>566</td>\n",
       "    </tr>\n",
       "  </tbody>\n",
       "</table>\n",
       "</div>"
      ],
      "text/plain": [
       "   user_id  resource_id\n",
       "0   909757          356\n",
       "1   583850          515\n",
       "2  1559882          566\n",
       "3   970967          679\n",
       "4  1640443          566"
      ]
     },
     "execution_count": 4,
     "metadata": {},
     "output_type": "execute_result"
    }
   ],
   "source": [
    "#смотрим, что получилось\n",
    "df.head()"
   ]
  },
  {
   "cell_type": "markdown",
   "metadata": {
    "id": "d7KHV1SMPmSD"
   },
   "source": [
    "## **1.5.Готовим данные для анализа в Python**"
   ]
  },
  {
   "cell_type": "markdown",
   "metadata": {
    "id": "1CwboaGzPmSD"
   },
   "source": [
    "Сгруппируем  курсы по пользователям и разобъем их внутри  по парам, а также не забудем избавиться от зеркальных пар с помощью сортировки. Нам нужны исключительно уникальные значения.\n"
   ]
  },
  {
   "cell_type": "code",
   "execution_count": 5,
   "metadata": {
    "id": "7Sq95dHwPmSE",
    "outputId": "4d46426b-4855-4bc2-adeb-118f0a259072"
   },
   "outputs": [
    {
     "data": {
      "text/html": [
       "<div>\n",
       "<style scoped>\n",
       "    .dataframe tbody tr th:only-of-type {\n",
       "        vertical-align: middle;\n",
       "    }\n",
       "\n",
       "    .dataframe tbody tr th {\n",
       "        vertical-align: top;\n",
       "    }\n",
       "\n",
       "    .dataframe thead th {\n",
       "        text-align: right;\n",
       "    }\n",
       "</style>\n",
       "<table border=\"1\" class=\"dataframe\">\n",
       "  <thead>\n",
       "    <tr style=\"text-align: right;\">\n",
       "      <th></th>\n",
       "      <th>user_id</th>\n",
       "      <th>resource_id</th>\n",
       "    </tr>\n",
       "  </thead>\n",
       "  <tbody>\n",
       "    <tr>\n",
       "      <th>0</th>\n",
       "      <td>51</td>\n",
       "      <td>[516, 1099]</td>\n",
       "    </tr>\n",
       "    <tr>\n",
       "      <th>1</th>\n",
       "      <td>6117</td>\n",
       "      <td>[356, 357, 1125]</td>\n",
       "    </tr>\n",
       "    <tr>\n",
       "      <th>2</th>\n",
       "      <td>10275</td>\n",
       "      <td>[553, 1147]</td>\n",
       "    </tr>\n",
       "    <tr>\n",
       "      <th>3</th>\n",
       "      <td>10457</td>\n",
       "      <td>[361, 1138]</td>\n",
       "    </tr>\n",
       "    <tr>\n",
       "      <th>4</th>\n",
       "      <td>17166</td>\n",
       "      <td>[356, 357]</td>\n",
       "    </tr>\n",
       "  </tbody>\n",
       "</table>\n",
       "</div>"
      ],
      "text/plain": [
       "   user_id       resource_id\n",
       "0       51       [516, 1099]\n",
       "1     6117  [356, 357, 1125]\n",
       "2    10275       [553, 1147]\n",
       "3    10457       [361, 1138]\n",
       "4    17166        [356, 357]"
      ]
     },
     "execution_count": 5,
     "metadata": {},
     "output_type": "execute_result"
    }
   ],
   "source": [
    "df_piv = df.groupby('user_id')['resource_id'].apply((lambda x:list(np.unique(x)))).reset_index()\n",
    "#выведем 5 строк и посмотрим на результат\n",
    "df_piv.head()"
   ]
  },
  {
   "cell_type": "markdown",
   "metadata": {
    "id": "3sihuA38PmSE"
   },
   "source": [
    "Разабъем все покупки курсов по парам"
   ]
  },
  {
   "cell_type": "code",
   "execution_count": 6,
   "metadata": {},
   "outputs": [
    {
     "data": {
      "text/html": [
       "<div>\n",
       "<style scoped>\n",
       "    .dataframe tbody tr th:only-of-type {\n",
       "        vertical-align: middle;\n",
       "    }\n",
       "\n",
       "    .dataframe tbody tr th {\n",
       "        vertical-align: top;\n",
       "    }\n",
       "\n",
       "    .dataframe thead th {\n",
       "        text-align: right;\n",
       "    }\n",
       "</style>\n",
       "<table border=\"1\" class=\"dataframe\">\n",
       "  <thead>\n",
       "    <tr style=\"text-align: right;\">\n",
       "      <th></th>\n",
       "      <th>resource_id</th>\n",
       "    </tr>\n",
       "  </thead>\n",
       "  <tbody>\n",
       "    <tr>\n",
       "      <th>0</th>\n",
       "      <td>[(516, 1099)]</td>\n",
       "    </tr>\n",
       "    <tr>\n",
       "      <th>1</th>\n",
       "      <td>[(356, 357), (356, 1125), (357, 1125)]</td>\n",
       "    </tr>\n",
       "    <tr>\n",
       "      <th>2</th>\n",
       "      <td>[(553, 1147)]</td>\n",
       "    </tr>\n",
       "    <tr>\n",
       "      <th>3</th>\n",
       "      <td>[(361, 1138)]</td>\n",
       "    </tr>\n",
       "    <tr>\n",
       "      <th>4</th>\n",
       "      <td>[(356, 357)]</td>\n",
       "    </tr>\n",
       "  </tbody>\n",
       "</table>\n",
       "</div>"
      ],
      "text/plain": [
       "                              resource_id\n",
       "0                           [(516, 1099)]\n",
       "1  [(356, 357), (356, 1125), (357, 1125)]\n",
       "2                           [(553, 1147)]\n",
       "3                           [(361, 1138)]\n",
       "4                            [(356, 357)]"
      ]
     },
     "metadata": {},
     "output_type": "display_data"
    }
   ],
   "source": [
    "df_piv_couser= df_piv.copy()\n",
    "df_piv_couser= df_piv['resource_id'].apply(lambda x: list(combinations(x, 2)))\n",
    "df_piv_couser = df_piv_couser.to_frame()\n",
    "display(df_piv_couser.head())"
   ]
  },
  {
   "cell_type": "markdown",
   "metadata": {},
   "source": [
    "Посчитаем количество различных пар курсов, которые встречаются вместе в покупках клиентов"
   ]
  },
  {
   "cell_type": "code",
   "execution_count": 7,
   "metadata": {},
   "outputs": [
    {
     "name": "stdout",
     "output_type": "stream",
     "text": [
      "Количество различных пар курсов которые встречаются вместе в покупках клиентов: 3989\n"
     ]
    }
   ],
   "source": [
    "courses_list = []\n",
    "for course in df_piv_couser['resource_id']:\n",
    "    for elem in course: \n",
    "        courses_list.append(elem) \n",
    "print(\"Количество различных пар курсов которые встречаются вместе в покупках клиентов:\", len(set(courses_list)))"
   ]
  },
  {
   "cell_type": "markdown",
   "metadata": {},
   "source": [
    "Проранжируем полученные пары по количеству раз совместной встречаемости с помощью модуля Counter"
   ]
  },
  {
   "cell_type": "code",
   "execution_count": 8,
   "metadata": {},
   "outputs": [],
   "source": [
    "#Преобразование в словарь для последующей обработки\n",
    "pair_cnt = Counter(courses_list)\n",
    "course_dict =dict(pair_cnt.most_common()) "
   ]
  },
  {
   "cell_type": "markdown",
   "metadata": {},
   "source": [
    "1.Реализуем функцию подбора рекомендуемых курсов, которая на вход принимает один номер курса и выдает 2 (других) наиболее часто встречающихся с этим курсом\n",
    "\n",
    "2.При помощи полученной функции сделать итерацию уникального списка всех курсов для получения 2-х доп рекомендаций к каждому(курсу)"
   ]
  },
  {
   "cell_type": "code",
   "execution_count": 9,
   "metadata": {},
   "outputs": [
    {
     "data": {
      "text/html": [
       "<div>\n",
       "<style scoped>\n",
       "    .dataframe tbody tr th:only-of-type {\n",
       "        vertical-align: middle;\n",
       "    }\n",
       "\n",
       "    .dataframe tbody tr th {\n",
       "        vertical-align: top;\n",
       "    }\n",
       "\n",
       "    .dataframe thead th {\n",
       "        text-align: right;\n",
       "    }\n",
       "</style>\n",
       "<table border=\"1\" class=\"dataframe\">\n",
       "  <thead>\n",
       "    <tr style=\"text-align: right;\">\n",
       "      <th></th>\n",
       "      <th>course_pair</th>\n",
       "      <th>rank</th>\n",
       "    </tr>\n",
       "  </thead>\n",
       "  <tbody>\n",
       "    <tr>\n",
       "      <th>186</th>\n",
       "      <td>(551, 566)</td>\n",
       "      <td>797</td>\n",
       "    </tr>\n",
       "    <tr>\n",
       "      <th>381</th>\n",
       "      <td>(515, 551)</td>\n",
       "      <td>417</td>\n",
       "    </tr>\n",
       "    <tr>\n",
       "      <th>205</th>\n",
       "      <td>(489, 551)</td>\n",
       "      <td>311</td>\n",
       "    </tr>\n",
       "    <tr>\n",
       "      <th>105</th>\n",
       "      <td>(523, 551)</td>\n",
       "      <td>304</td>\n",
       "    </tr>\n",
       "    <tr>\n",
       "      <th>519</th>\n",
       "      <td>(566, 794)</td>\n",
       "      <td>290</td>\n",
       "    </tr>\n",
       "  </tbody>\n",
       "</table>\n",
       "</div>"
      ],
      "text/plain": [
       "    course_pair  rank\n",
       "186  (551, 566)   797\n",
       "381  (515, 551)   417\n",
       "205  (489, 551)   311\n",
       "105  (523, 551)   304\n",
       "519  (566, 794)   290"
      ]
     },
     "metadata": {},
     "output_type": "display_data"
    }
   ],
   "source": [
    "#Преобразование проранжированных ранее пар курсов в таблицу (для последующего анализа)\n",
    "courses_table = pd.DataFrame(pair_cnt.items(), columns=['course_pair', 'rank']).sort_values(by='rank', ascending=False)\n",
    "display(courses_table.head()) "
   ]
  },
  {
   "cell_type": "markdown",
   "metadata": {},
   "source": [
    "Создадим список уникальных идентификаторов курсов (для итерации в результирующей таблице)"
   ]
  },
  {
   "cell_type": "code",
   "execution_count": 10,
   "metadata": {},
   "outputs": [
    {
     "data": {
      "text/plain": [
       "array([ 356,  515,  566,  679,  504,  551,  570,  514,  571, 1129,  503,\n",
       "        523,  568,  511, 1138,  745,  516,  741, 1181,  569,  764,  572,\n",
       "        794,  490,  489,  564,  502,  753,  750,  829,  791,  752,  776,\n",
       "        563,  908, 1144, 1128,  357, 1141,  553,  519,  365,  659,  368,\n",
       "       1125,  840,  863,  358,  809, 1103,  363, 1184,  756,  360,  507,\n",
       "       1100,  552,  664,  518,  359,  757,  672,  765, 1156, 1140,  562,\n",
       "       1188,  509,  749,  366,  907, 1102, 1152, 1161,  517,  777, 1139,\n",
       "        670, 1145,  671, 1101,  361, 1099,  513,  902,  743, 1115, 1116,\n",
       "        367, 1187,  912,  814, 1124, 1186,  742,  909, 1146,  744,  508,\n",
       "        835,  837,  364,  362,  803,  810,  813,  862, 1160,  800, 1104,\n",
       "        755,  864, 1147,  834, 1185,  836, 1198, 1199,  911,  830,  833,\n",
       "       1182,  865,  866, 1200, 1201], dtype=int64)"
      ]
     },
     "metadata": {},
     "output_type": "display_data"
    }
   ],
   "source": [
    "uniq_list =df['resource_id'].unique()\n",
    "display(uniq_list)"
   ]
  },
  {
   "cell_type": "markdown",
   "metadata": {},
   "source": [
    "найдем общее количество уникальных курсов"
   ]
  },
  {
   "cell_type": "code",
   "execution_count": 11,
   "metadata": {},
   "outputs": [
    {
     "name": "stdout",
     "output_type": "stream",
     "text": [
      "Общее количество уникальных курсов: 126\n"
     ]
    }
   ],
   "source": [
    "course_cnt =Counter(df['resource_id'].unique())\n",
    "print(\"Общее количество уникальных курсов:\", sum(course_cnt.values()))"
   ]
  },
  {
   "cell_type": "markdown",
   "metadata": {
    "id": "Ez6r3NZPPmSF"
   },
   "source": [
    "Найдем ID самой популярной группы курсов"
   ]
  },
  {
   "cell_type": "code",
   "execution_count": 12,
   "metadata": {
    "id": "OVhVT_jZPmSG",
    "outputId": "dd3adcce-5da7-4848-c326-759d0874b5f7"
   },
   "outputs": [
    {
     "name": "stdout",
     "output_type": "stream",
     "text": [
      "Самая популярная пара курсов: ((551, 566), 797)\n"
     ]
    }
   ],
   "source": [
    "popular_group = Counter(courses_list).most_common()\n",
    "print('Самая популярная пара курсов:', popular_group[0])"
   ]
  },
  {
   "cell_type": "markdown",
   "metadata": {
    "id": "rNsBLmVePmSG"
   },
   "source": [
    "**<font size=\"5\" color=\"green\"><b>ЗАДАНИЕ</b></font>**\n",
    "\n",
    "Необходимо оформить таблицу, которая станет основой рекомендательной системы.\n",
    "\n",
    "Прежде всего нужно установить минимальную границу — какое количество раз считать слишком малым.\n",
    "Вместо малопопулярного курса вывести какой-то другой курс, который, на ваш аргументированный взгляд, подходит лучше.\n",
    "\n",
    "Итоговая таблица должна состоять из трёх столбцов:\n",
    "\n",
    "    1.Курс, к которому идёт рекомендация\n",
    "    2.Курс для рекомендации № 1 (самый популярный)\n",
    "    3.Курс для рекомендации № 2 (второй по популярности)\n",
    "\n",
    "Что делать, если одна из рекомендаций встречается слишком редко?\n",
    "\n",
    "    Прежде всего нужно установить минимальную границу — какое количество раз считать слишком малым.\n",
    "\n",
    "    Вместо малопопулярного курса вывести какой-то другой курс, который, на ваш аргументированный взгляд, подходит лучше."
   ]
  },
  {
   "cell_type": "markdown",
   "metadata": {
    "id": "7yEW3WrUPmSH"
   },
   "source": [
    "## **2.1.Создадим новый датафрейм, а затем перегруппируемся**"
   ]
  },
  {
   "cell_type": "code",
   "execution_count": 13,
   "metadata": {
    "id": "K3oe6xr8PmSH",
    "outputId": "dc226232-bf43-4db3-dd47-e30690f21972"
   },
   "outputs": [
    {
     "data": {
      "text/html": [
       "<div>\n",
       "<style scoped>\n",
       "    .dataframe tbody tr th:only-of-type {\n",
       "        vertical-align: middle;\n",
       "    }\n",
       "\n",
       "    .dataframe tbody tr th {\n",
       "        vertical-align: top;\n",
       "    }\n",
       "\n",
       "    .dataframe thead th {\n",
       "        text-align: right;\n",
       "    }\n",
       "</style>\n",
       "<table border=\"1\" class=\"dataframe\">\n",
       "  <thead>\n",
       "    <tr style=\"text-align: right;\">\n",
       "      <th></th>\n",
       "      <th>pair</th>\n",
       "      <th>freq</th>\n",
       "    </tr>\n",
       "  </thead>\n",
       "  <tbody>\n",
       "    <tr>\n",
       "      <th>0</th>\n",
       "      <td>(551, 566)</td>\n",
       "      <td>797</td>\n",
       "    </tr>\n",
       "    <tr>\n",
       "      <th>1</th>\n",
       "      <td>(515, 551)</td>\n",
       "      <td>417</td>\n",
       "    </tr>\n",
       "    <tr>\n",
       "      <th>2</th>\n",
       "      <td>(489, 551)</td>\n",
       "      <td>311</td>\n",
       "    </tr>\n",
       "    <tr>\n",
       "      <th>3</th>\n",
       "      <td>(523, 551)</td>\n",
       "      <td>304</td>\n",
       "    </tr>\n",
       "    <tr>\n",
       "      <th>4</th>\n",
       "      <td>(566, 794)</td>\n",
       "      <td>290</td>\n",
       "    </tr>\n",
       "  </tbody>\n",
       "</table>\n",
       "</div>"
      ],
      "text/plain": [
       "         pair  freq\n",
       "0  (551, 566)   797\n",
       "1  (515, 551)   417\n",
       "2  (489, 551)   311\n",
       "3  (523, 551)   304\n",
       "4  (566, 794)   290"
      ]
     },
     "metadata": {},
     "output_type": "display_data"
    }
   ],
   "source": [
    "#создадим дата фрейм курсов с частотой покупки\n",
    "df2 = pd.DataFrame(popular_group,columns=['pair', 'freq'])\n",
    "display(df2.head())"
   ]
  },
  {
   "cell_type": "markdown",
   "metadata": {
    "id": "qU_T5YK0PmSI"
   },
   "source": [
    "Построим сводную таблицу по частоте пар курсов, чтобы увидеть, сколько пар встречаются один раз, два, раза раза и т.д."
   ]
  },
  {
   "cell_type": "code",
   "execution_count": 14,
   "metadata": {
    "id": "3bEP7cFWPmSI",
    "outputId": "70db313b-14ec-4454-e0a2-c96c41097edd"
   },
   "outputs": [
    {
     "data": {
      "text/plain": [
       "freq\n",
       "1    1185\n",
       "2     578\n",
       "3     366\n",
       "4     259\n",
       "5     202\n",
       "Name: pair, dtype: int64"
      ]
     },
     "execution_count": 14,
     "metadata": {},
     "output_type": "execute_result"
    }
   ],
   "source": [
    "#группируем пары курсов по частоте, определяем количество пар с такой частотой\n",
    "pivot = df2.groupby(by = 'freq')['pair'].count()\n",
    "pivot.head()"
   ]
  },
  {
   "cell_type": "markdown",
   "metadata": {
    "id": "HDPKLr40PmSJ"
   },
   "source": [
    "\n",
    "**<font size=\"5\" color=\"green\"><b>ВЫВОД</b></font>**\n",
    "\n",
    "Взглянув на сводную таблицу не вооруженным глазом множно увидеть, что из <font size=\"5\" color=\"green\"><b>3989</b></font> различных пар курсов, которые покупают пользователи, на каждую из <font size=\"5\" color=\"green\"><b>1185</b></font> пар курсов (30% от всех уникальных пар курсов) приходится одна покупка, на <font size=\"5\" color=\"green\"><b>578</b></font> пар (14% от всех уникальных пар курсов) - 2 покупки, <font size=\"5\" color=\"green\"><b>366</b></font> (9%) - 3 покупки и т.д. Самая популярная пара курсов <font size=\"5\" color=\"green\"><b>(551, 566)</b></font> была куплена <font size=\"5\" color=\"green\"><b>797</b></font> раз."
   ]
  },
  {
   "cell_type": "markdown",
   "metadata": {
    "id": "fQuStaYuPmSJ"
   },
   "source": [
    "## **2.2.Посмотрим, как распределены частоты покупок курсов при помощи функции .describe()**"
   ]
  },
  {
   "cell_type": "code",
   "execution_count": 15,
   "metadata": {
    "id": "uzRMVn1yPmSK",
    "outputId": "793d7e26-b06c-4a37-a801-07919447bd19"
   },
   "outputs": [
    {
     "data": {
      "text/plain": [
       "count    3989.000000\n",
       "mean       10.031838\n",
       "std        26.355998\n",
       "min         1.000000\n",
       "25%         1.000000\n",
       "50%         3.000000\n",
       "75%         9.000000\n",
       "max       797.000000\n",
       "Name: freq, dtype: float64"
      ]
     },
     "metadata": {},
     "output_type": "display_data"
    }
   ],
   "source": [
    "display(df2['freq'].describe())"
   ]
  },
  {
   "cell_type": "markdown",
   "metadata": {},
   "source": [
    "**<font size=\"5\" color=\"green\"><b>ВЫВОД</b></font>**\n",
    "\n",
    "Видим, что средняя частота покупок ~ 10%, где частота покупок больше 9%, следовательно исходя из этого, установим минимальную границу для формирования рекомендательной таблицы на уровен 9 покупок."
   ]
  },
  {
   "cell_type": "markdown",
   "metadata": {
    "id": "3zMNTYuDPmSK"
   },
   "source": [
    "## **2.3.Сформируем новый датафрем и сгруппируемся по ID курсов, для того чтобы увидеть сколько раз продавался курс с определенном номером**"
   ]
  },
  {
   "cell_type": "code",
   "execution_count": 16,
   "metadata": {
    "id": "TtPnUMPhPmSL",
    "outputId": "0702b40d-3e02-4a02-b503-1b89a0e0fca8"
   },
   "outputs": [
    {
     "data": {
      "text/plain": [
       "resource_id\n",
       "551    2935\n",
       "566    2342\n",
       "515    1311\n",
       "489    1125\n",
       "490    1084\n",
       "Name: user_id, dtype: int64"
      ]
     },
     "execution_count": 16,
     "metadata": {},
     "output_type": "execute_result"
    }
   ],
   "source": [
    "#проверим, какие курсы были самыми популярными и отсортируемся от большего к меньшему\n",
    "popular_course = df.groupby(by = 'resource_id')['user_id'].count().sort_values(ascending=False)\n",
    "popular_course.head()\n"
   ]
  },
  {
   "cell_type": "markdown",
   "metadata": {
    "id": "birMWyxNPmSM"
   },
   "source": [
    "**<font size=\"5\" color=\"green\"><b>ВЫВОД</b></font>**\n",
    "\n",
    "Самый популярный курс <font size=\"5\" color=\"green\"><b>551</b></font>. По этому будем рекомендовать его к тем курсам, у которых частота покупки меньше 9%"
   ]
  },
  {
   "cell_type": "markdown",
   "metadata": {
    "id": "q2-3y1lCPmSN"
   },
   "source": [
    "## **3.1. Оформим таблицу, которая станет основой рекомендательной системы**"
   ]
  },
  {
   "cell_type": "markdown",
   "metadata": {
    "id": "lJgOHLIJPmSN"
   },
   "source": [
    "### <font size=\"5\" color=\"green\"><b>**Построение рекомендательной таблицы будет состоять из 2-х основных частей:**</b></font>"
   ]
  },
  {
   "cell_type": "markdown",
   "metadata": {
    "id": "FO1XQJPUPmSO"
   },
   "source": [
    "1. Напишем функцию рекомендаций(на вход будет подаваться номер курса, возвращаться будет 2 курса, с которым поданный на вход курс чаще всего продавался)."
   ]
  },
  {
   "cell_type": "code",
   "execution_count": 17,
   "metadata": {},
   "outputs": [],
   "source": [
    "def course_recommendation(resource_id):\n",
    "    recomm_list = [] \n",
    "    for i in course_dict.keys():\n",
    "        if i[0] == resource_id: \n",
    "            recomm_list.append((i, course_dict[i]))\n",
    "        elif i[1] == resource_id:\n",
    "            recomm_list.append((i, course_dict[i]))\n",
    "    recomm_list_sort =sorted(recomm_list,key = lambda x: x[1])\n",
    "    return recomm_list[:2] "
   ]
  },
  {
   "cell_type": "markdown",
   "metadata": {},
   "source": [
    "2.Создадим цикл, который выводит список рекомендаций для каждого курса (на основе вышенаписанной функции).\n",
    "\n",
    " Отсутствующие рекомендации заполняем курсами из списка самых популярных [516, 566].\n",
    "\n"
   ]
  },
  {
   "cell_type": "code",
   "execution_count": 18,
   "metadata": {},
   "outputs": [],
   "source": [
    "recommendation_list= []\n",
    "recomm_df = pd.DataFrame(recommendation_list, columns=['first_rec', 'second_rec'])\n",
    "\n",
    "for resource_id in uniq_list:\n",
    "    rec1= None\n",
    "    rec2= None\n",
    "    if course_recommendation(resource_id)[0][1] >= 9:\n",
    "        rec1 = (set(course_recommendation(resource_id)[0][0])-set([resource_id])).pop()\n",
    "    if course_recommendation(resource_id)[1][1] >= 9:\n",
    "        rec2 = (set(course_recommendation(resource_id)[1][0])-set([resource_id])).pop()\n",
    "    recomm_df.loc[resource_id] = [rec1, rec2]\n",
    "    \n",
    "    if recomm_df.loc[resource_id][0] is None and recomm_df.loc[resource_id][1] is None:\n",
    "        recomm_df.loc[resource_id] = [516, 566] \n",
    "    if rec2 is None and rec1 is not None:\n",
    "        rec1 = (set(course_recommendation(resource_id)[0][0])-set([resource_id])).pop()\n",
    "        rec2 = np.random.choice(list(set([516, 566])-set([resource_id])))\n",
    "        recomm_df.loc[resource_id] = [rec1, rec2]"
   ]
  },
  {
   "cell_type": "code",
   "execution_count": 20,
   "metadata": {},
   "outputs": [
    {
     "data": {
      "text/html": [
       "<div>\n",
       "<style scoped>\n",
       "    .dataframe tbody tr th:only-of-type {\n",
       "        vertical-align: middle;\n",
       "    }\n",
       "\n",
       "    .dataframe tbody tr th {\n",
       "        vertical-align: top;\n",
       "    }\n",
       "\n",
       "    .dataframe thead th {\n",
       "        text-align: right;\n",
       "    }\n",
       "</style>\n",
       "<table border=\"1\" class=\"dataframe\">\n",
       "  <thead>\n",
       "    <tr style=\"text-align: right;\">\n",
       "      <th></th>\n",
       "      <th>first_rec</th>\n",
       "      <th>second_rec</th>\n",
       "    </tr>\n",
       "  </thead>\n",
       "  <tbody>\n",
       "    <tr>\n",
       "      <th>356</th>\n",
       "      <td>571</td>\n",
       "      <td>357</td>\n",
       "    </tr>\n",
       "    <tr>\n",
       "      <th>515</th>\n",
       "      <td>551</td>\n",
       "      <td>489</td>\n",
       "    </tr>\n",
       "    <tr>\n",
       "      <th>566</th>\n",
       "      <td>551</td>\n",
       "      <td>794</td>\n",
       "    </tr>\n",
       "    <tr>\n",
       "      <th>679</th>\n",
       "      <td>551</td>\n",
       "      <td>489</td>\n",
       "    </tr>\n",
       "    <tr>\n",
       "      <th>504</th>\n",
       "      <td>572</td>\n",
       "      <td>569</td>\n",
       "    </tr>\n",
       "  </tbody>\n",
       "</table>\n",
       "</div>"
      ],
      "text/plain": [
       "    first_rec second_rec\n",
       "356       571        357\n",
       "515       551        489\n",
       "566       551        794\n",
       "679       551        489\n",
       "504       572        569"
      ]
     },
     "metadata": {},
     "output_type": "display_data"
    },
    {
     "data": {
      "text/plain": [
       "'Итоговая таблица состоящая из 3-х столбцов:'"
      ]
     },
     "metadata": {},
     "output_type": "display_data"
    }
   ],
   "source": [
    "display(recomm_df.head())\n",
    "display('Итоговая таблица состоящая из 3-х столбцов:')"
   ]
  },
  {
   "cell_type": "markdown",
   "metadata": {},
   "source": [
    "**<font size=\"5\" color=\"green\"><b>ОБЩИЙ ВЫВОД</b></font>**\n",
    "\n",
    "Из <font size=\"5\" color=\"green\"><b>3989</b></font> различных пар курсов, которые покупают пользователи, на каждую из <font size=\"5\" color=\"green\"><b>1185</b></font> пар курсов (30% от всех уникальных пар курсов) приходится одна покупка, на <font size=\"5\" color=\"green\"><b>578</b></font> пар (14% от всех уникальных пар курсов) - 2 покупки, <font size=\"5\" color=\"green\"><b>366</b></font> (9%) - 3 покупки и т.д. Самая популярная пара курсов <font size=\"5\" color=\"green\"><b>(551, 566)</b></font> была куплена <font size=\"5\" color=\"green\"><b>797</b></font> раз.\n",
    "\n",
    "Т.к средняя частота покупок ~ 10%, где частота покупок больше 9%,  установили минимальную границу для формирования рекомендательной таблицы на уровен >=9 покупок. Самый популярный курс <font size=\"5\" \n",
    "\n",
    "color=\"green\"><b>551</b></font>. По этому  рекомендоваkb его к тем курсам, у которых частота покупки меньше 9%. Что касаемо итоговой таблицы. Был создан цикл, который выводит список рекомендаций для \n",
    "\n",
    "каждого курса (на основе написанной функции). Поскольку функция может вернуть 0 или 1, а не 2 рекомендации (из-за непрохождения заданного минимального порога встречаемости или отсутствия вариантов \n",
    "\n",
    "совместной встречаемости), цикл имеет вложенность (дополнительно проверяет условие количества полученных рекомендаций). Отсутствующие рекомендации заполняются курсами из списка самых популярных [516, 566].\n"
   ]
  }
 ],
 "metadata": {
  "colab": {
   "provenance": []
  },
  "kernelspec": {
   "display_name": "Python 3 (ipykernel)",
   "language": "python",
   "name": "python3"
  },
  "language_info": {
   "codemirror_mode": {
    "name": "ipython",
    "version": 3
   },
   "file_extension": ".py",
   "mimetype": "text/x-python",
   "name": "python",
   "nbconvert_exporter": "python",
   "pygments_lexer": "ipython3",
   "version": "3.9.10"
  }
 },
 "nbformat": 4,
 "nbformat_minor": 1
}
